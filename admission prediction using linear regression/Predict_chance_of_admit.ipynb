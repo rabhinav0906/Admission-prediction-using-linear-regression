{
 "cells": [
  {
   "cell_type": "code",
   "execution_count": 4,
   "id": "89129ed2",
   "metadata": {},
   "outputs": [
    {
     "data": {
      "text/html": [
       "<div>\n",
       "<style scoped>\n",
       "    .dataframe tbody tr th:only-of-type {\n",
       "        vertical-align: middle;\n",
       "    }\n",
       "\n",
       "    .dataframe tbody tr th {\n",
       "        vertical-align: top;\n",
       "    }\n",
       "\n",
       "    .dataframe thead th {\n",
       "        text-align: right;\n",
       "    }\n",
       "</style>\n",
       "<table border=\"1\" class=\"dataframe\">\n",
       "  <thead>\n",
       "    <tr style=\"text-align: right;\">\n",
       "      <th></th>\n",
       "      <th>Serial No.</th>\n",
       "      <th>GRE Score</th>\n",
       "      <th>TOEFL Score</th>\n",
       "      <th>University Rating</th>\n",
       "      <th>SOP</th>\n",
       "      <th>LOR</th>\n",
       "      <th>CGPA</th>\n",
       "      <th>Research</th>\n",
       "      <th>Chance of Admit</th>\n",
       "    </tr>\n",
       "  </thead>\n",
       "  <tbody>\n",
       "    <tr>\n",
       "      <th>0</th>\n",
       "      <td>1</td>\n",
       "      <td>337</td>\n",
       "      <td>118</td>\n",
       "      <td>4</td>\n",
       "      <td>4.5</td>\n",
       "      <td>4.5</td>\n",
       "      <td>9.65</td>\n",
       "      <td>1</td>\n",
       "      <td>0.92</td>\n",
       "    </tr>\n",
       "    <tr>\n",
       "      <th>1</th>\n",
       "      <td>2</td>\n",
       "      <td>324</td>\n",
       "      <td>107</td>\n",
       "      <td>4</td>\n",
       "      <td>4.0</td>\n",
       "      <td>4.5</td>\n",
       "      <td>8.87</td>\n",
       "      <td>1</td>\n",
       "      <td>0.76</td>\n",
       "    </tr>\n",
       "    <tr>\n",
       "      <th>2</th>\n",
       "      <td>3</td>\n",
       "      <td>316</td>\n",
       "      <td>104</td>\n",
       "      <td>3</td>\n",
       "      <td>3.0</td>\n",
       "      <td>3.5</td>\n",
       "      <td>8.00</td>\n",
       "      <td>1</td>\n",
       "      <td>0.72</td>\n",
       "    </tr>\n",
       "    <tr>\n",
       "      <th>3</th>\n",
       "      <td>4</td>\n",
       "      <td>322</td>\n",
       "      <td>110</td>\n",
       "      <td>3</td>\n",
       "      <td>3.5</td>\n",
       "      <td>2.5</td>\n",
       "      <td>8.67</td>\n",
       "      <td>1</td>\n",
       "      <td>0.80</td>\n",
       "    </tr>\n",
       "    <tr>\n",
       "      <th>4</th>\n",
       "      <td>5</td>\n",
       "      <td>314</td>\n",
       "      <td>103</td>\n",
       "      <td>2</td>\n",
       "      <td>2.0</td>\n",
       "      <td>3.0</td>\n",
       "      <td>8.21</td>\n",
       "      <td>0</td>\n",
       "      <td>0.65</td>\n",
       "    </tr>\n",
       "  </tbody>\n",
       "</table>\n",
       "</div>"
      ],
      "text/plain": [
       "   Serial No.  GRE Score  TOEFL Score  University Rating  SOP  LOR   CGPA  \\\n",
       "0           1        337          118                  4  4.5   4.5  9.65   \n",
       "1           2        324          107                  4  4.0   4.5  8.87   \n",
       "2           3        316          104                  3  3.0   3.5  8.00   \n",
       "3           4        322          110                  3  3.5   2.5  8.67   \n",
       "4           5        314          103                  2  2.0   3.0  8.21   \n",
       "\n",
       "   Research  Chance of Admit   \n",
       "0         1              0.92  \n",
       "1         1              0.76  \n",
       "2         1              0.72  \n",
       "3         1              0.80  \n",
       "4         0              0.65  "
      ]
     },
     "execution_count": 4,
     "metadata": {},
     "output_type": "execute_result"
    }
   ],
   "source": [
    "import pandas as pd\n",
    "import pandas as pd\n",
    "\n",
    "df = pd.read_csv('predict_admission.csv')\n",
    "df.head()"
   ]
  },
  {
   "cell_type": "code",
   "execution_count": 8,
   "id": "61c109e8",
   "metadata": {},
   "outputs": [
    {
     "name": "stdout",
     "output_type": "stream",
     "text": [
      "0      0.92\n",
      "1      0.76\n",
      "2      0.72\n",
      "3      0.80\n",
      "4      0.65\n",
      "       ... \n",
      "495    0.87\n",
      "496    0.96\n",
      "497    0.93\n",
      "498    0.73\n",
      "499    0.84\n",
      "Name: Chance of Admit , Length: 500, dtype: float64\n"
     ]
    },
    {
     "data": {
      "text/html": [
       "<div>\n",
       "<style scoped>\n",
       "    .dataframe tbody tr th:only-of-type {\n",
       "        vertical-align: middle;\n",
       "    }\n",
       "\n",
       "    .dataframe tbody tr th {\n",
       "        vertical-align: top;\n",
       "    }\n",
       "\n",
       "    .dataframe thead th {\n",
       "        text-align: right;\n",
       "    }\n",
       "</style>\n",
       "<table border=\"1\" class=\"dataframe\">\n",
       "  <thead>\n",
       "    <tr style=\"text-align: right;\">\n",
       "      <th></th>\n",
       "      <th>GRE Score</th>\n",
       "      <th>TOEFL Score</th>\n",
       "      <th>University Rating</th>\n",
       "      <th>SOP</th>\n",
       "      <th>LOR</th>\n",
       "      <th>CGPA</th>\n",
       "      <th>Research</th>\n",
       "    </tr>\n",
       "  </thead>\n",
       "  <tbody>\n",
       "    <tr>\n",
       "      <th>0</th>\n",
       "      <td>337</td>\n",
       "      <td>118</td>\n",
       "      <td>4</td>\n",
       "      <td>4.5</td>\n",
       "      <td>4.5</td>\n",
       "      <td>9.65</td>\n",
       "      <td>1</td>\n",
       "    </tr>\n",
       "    <tr>\n",
       "      <th>1</th>\n",
       "      <td>324</td>\n",
       "      <td>107</td>\n",
       "      <td>4</td>\n",
       "      <td>4.0</td>\n",
       "      <td>4.5</td>\n",
       "      <td>8.87</td>\n",
       "      <td>1</td>\n",
       "    </tr>\n",
       "    <tr>\n",
       "      <th>2</th>\n",
       "      <td>316</td>\n",
       "      <td>104</td>\n",
       "      <td>3</td>\n",
       "      <td>3.0</td>\n",
       "      <td>3.5</td>\n",
       "      <td>8.00</td>\n",
       "      <td>1</td>\n",
       "    </tr>\n",
       "    <tr>\n",
       "      <th>3</th>\n",
       "      <td>322</td>\n",
       "      <td>110</td>\n",
       "      <td>3</td>\n",
       "      <td>3.5</td>\n",
       "      <td>2.5</td>\n",
       "      <td>8.67</td>\n",
       "      <td>1</td>\n",
       "    </tr>\n",
       "    <tr>\n",
       "      <th>4</th>\n",
       "      <td>314</td>\n",
       "      <td>103</td>\n",
       "      <td>2</td>\n",
       "      <td>2.0</td>\n",
       "      <td>3.0</td>\n",
       "      <td>8.21</td>\n",
       "      <td>0</td>\n",
       "    </tr>\n",
       "  </tbody>\n",
       "</table>\n",
       "</div>"
      ],
      "text/plain": [
       "   GRE Score  TOEFL Score  University Rating  SOP  LOR   CGPA  Research\n",
       "0        337          118                  4  4.5   4.5  9.65         1\n",
       "1        324          107                  4  4.0   4.5  8.87         1\n",
       "2        316          104                  3  3.0   3.5  8.00         1\n",
       "3        322          110                  3  3.5   2.5  8.67         1\n",
       "4        314          103                  2  2.0   3.0  8.21         0"
      ]
     },
     "execution_count": 8,
     "metadata": {},
     "output_type": "execute_result"
    }
   ],
   "source": [
    "#step 2\n",
    "d= df['Chance of Admit ']\n",
    "print(d)\n",
    "i = df.iloc[:,1:8]\n",
    "i.head()"
   ]
  },
  {
   "cell_type": "code",
   "execution_count": 7,
   "id": "d5c3936f",
   "metadata": {},
   "outputs": [
    {
     "name": "stdout",
     "output_type": "stream",
     "text": [
      "<class 'pandas.core.frame.DataFrame'>\n",
      "RangeIndex: 500 entries, 0 to 499\n",
      "Data columns (total 7 columns):\n",
      " #   Column             Non-Null Count  Dtype  \n",
      "---  ------             --------------  -----  \n",
      " 0   GRE Score          500 non-null    int64  \n",
      " 1   TOEFL Score        500 non-null    int64  \n",
      " 2   University Rating  500 non-null    int64  \n",
      " 3   SOP                500 non-null    float64\n",
      " 4   LOR                500 non-null    float64\n",
      " 5   CGPA               500 non-null    float64\n",
      " 6   Research           500 non-null    int64  \n",
      "dtypes: float64(3), int64(4)\n",
      "memory usage: 27.5 KB\n"
     ]
    }
   ],
   "source": [
    "#step 3\n",
    "i.info()"
   ]
  },
  {
   "cell_type": "code",
   "execution_count": 4,
   "id": "880a823a",
   "metadata": {},
   "outputs": [
    {
     "data": {
      "text/plain": [
       "90     0.64\n",
       "254    0.85\n",
       "283    0.80\n",
       "445    0.91\n",
       "461    0.68\n",
       "       ... \n",
       "372    0.95\n",
       "56     0.64\n",
       "440    0.53\n",
       "60     0.48\n",
       "208    0.64\n",
       "Name: Chance of Admit , Length: 100, dtype: float64"
      ]
     },
     "execution_count": 4,
     "metadata": {},
     "output_type": "execute_result"
    }
   ],
   "source": [
    "#step 4\n",
    "\n",
    "from sklearn.model_selection import train_test_split\n",
    "X_train, X_test, y_train, y_test = train_test_split(i, d, test_size = 0.20, random_state =0)\n",
    "\n",
    "X_train #80 % of i\n",
    "\n",
    "X_test #20 % of i\n",
    "\n",
    "y_train #80 % of i\n",
    "\n",
    "y_test #20 % of i"
   ]
  },
  {
   "cell_type": "code",
   "execution_count": 5,
   "id": "badc3f10",
   "metadata": {},
   "outputs": [
    {
     "name": "stdout",
     "output_type": "stream",
     "text": [
      "[0.00214141 0.00277039 0.00555693 0.00051031 0.02041338 0.11505398\n",
      " 0.02412567]\n",
      "-1.3441673411950723\n"
     ]
    }
   ],
   "source": [
    "#step 5\n",
    "from sklearn.linear_model import LinearRegression\n",
    "lr = LinearRegression()\n",
    "lr.fit(X_train, y_train)\n",
    "\n",
    "slope = lr.coef_\n",
    "\n",
    "intercept = lr.intercept_\n",
    "\n",
    "print(slope)\n",
    "print(intercept)"
   ]
  },
  {
   "cell_type": "code",
   "execution_count": 6,
   "id": "4cd62372",
   "metadata": {},
   "outputs": [
    {
     "data": {
      "text/plain": [
       "array([0.6606252 , 0.83467888, 0.77803235, 0.88054515, 0.60126564,\n",
       "       0.64356569, 0.53081352, 0.69581338, 0.52494695, 0.74711904,\n",
       "       0.61091713, 0.70857888, 0.62202889, 0.75371215, 0.88455163,\n",
       "       0.50857541, 0.82439288, 0.64614159, 0.7656139 , 0.53346257,\n",
       "       0.51561087, 0.72319839, 0.52118775, 0.92174074, 0.8332172 ,\n",
       "       0.72651112, 0.69865521, 0.50871376, 0.58246086, 0.59618334,\n",
       "       0.72743587, 0.48564416, 0.65331018, 0.8414552 , 0.56459962,\n",
       "       0.59803765, 0.84391714, 0.86746389, 0.59031772, 0.65993134,\n",
       "       0.67020768, 0.90220251, 0.86565391, 0.72223457, 0.77319666,\n",
       "       0.8068659 , 0.97014963, 0.85112801, 0.6429692 , 0.65569499,\n",
       "       0.63193629, 0.6367591 , 0.61353916, 0.80117655, 0.6942999 ,\n",
       "       0.85574591, 0.52489959, 0.86276624, 0.60022041, 0.63653589,\n",
       "       0.49798224, 0.90699384, 0.61965598, 0.94547309, 0.7196482 ,\n",
       "       0.61602013, 0.73614278, 0.8434937 , 0.519103  , 0.77895777,\n",
       "       0.8947432 , 0.78381774, 0.69730948, 0.63992055, 0.78922356,\n",
       "       0.916447  , 0.7522116 , 0.72918547, 0.55987804, 0.66139049,\n",
       "       0.59504557, 0.8592551 , 0.55418168, 0.67073234, 0.76931897,\n",
       "       0.55440527, 0.81743067, 0.61916368, 0.4583537 , 0.66019097,\n",
       "       0.71853303, 0.78402829, 0.65818434, 0.70588416, 0.62676455,\n",
       "       0.94214646, 0.54543   , 0.53636442, 0.6003905 , 0.6153504 ])"
      ]
     },
     "execution_count": 6,
     "metadata": {},
     "output_type": "execute_result"
    }
   ],
   "source": [
    "#step 6\n",
    "prediction = lr.predict(X_test)\n",
    " \n",
    "prediction"
   ]
  },
  {
   "cell_type": "code",
   "execution_count": 7,
   "id": "1f780822",
   "metadata": {},
   "outputs": [
    {
     "name": "stdout",
     "output_type": "stream",
     "text": [
      "Mean Absolute Error(MAE): 0.04825389374865475\n",
      "Mean Squared Error(MSE): 0.004079680034602108\n",
      "Root Mean Squared Error(RMSE): 0.06387237301527247\n"
     ]
    }
   ],
   "source": [
    "# step 7\n",
    "from sklearn import metrics\n",
    "print('Mean Absolute Error(MAE):', metrics.mean_absolute_error(y_test, prediction))\n",
    "print('Mean Squared Error(MSE):', metrics.mean_squared_error(y_test, prediction))\n",
    "print('Root Mean Squared Error(RMSE):', np.sqrt(metrics.mean_squared_error(y_test, prediction)))"
   ]
  }
 ],
 "metadata": {
  "kernelspec": {
   "display_name": "Python 3 (ipykernel)",
   "language": "python",
   "name": "python3"
  },
  "language_info": {
   "codemirror_mode": {
    "name": "ipython",
    "version": 3
   },
   "file_extension": ".py",
   "mimetype": "text/x-python",
   "name": "python",
   "nbconvert_exporter": "python",
   "pygments_lexer": "ipython3",
   "version": "3.11.3"
  }
 },
 "nbformat": 4,
 "nbformat_minor": 5
}
